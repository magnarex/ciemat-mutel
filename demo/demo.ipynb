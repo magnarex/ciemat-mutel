{
 "cells": [
  {
   "cell_type": "markdown",
   "metadata": {},
   "source": [
    "# Demostración de uso"
   ]
  },
  {
   "cell_type": "markdown",
   "metadata": {},
   "source": [
    "El paquete se llama muTel (de Muon Telescope) y en un principio englobaría toda la parte de DAQ y DQM. En este caso, nos centraremos en el DQM."
   ]
  },
  {
   "cell_type": "markdown",
   "metadata": {},
   "source": [
    "## MuData\n",
    "\n",
    "MuData es la estructura básica de datos que vamos a manejar, es un envoltorio bonito de un pd.DataFrame que nos va a permitir aplicarle métodos de forma más cómoda y compacta."
   ]
  },
  {
   "cell_type": "code",
   "execution_count": 3,
   "metadata": {},
   "outputs": [],
   "source": [
    "import importlib.util\n",
    "import sys\n",
    "\n",
    "loc = r\"F:\\Clase\\03 - Máster\\TFM\\Programa\\muTel\\src\\muTel\\__init__.py\"\n",
    "# loc = \"muTel_work/muTel_v02/muTel/src/muTel/__init__.py\"\n",
    "# loc = \"/afs/ciemat.es/user/m/martialc/muTel/src/muTel/__init__.py\"\n",
    "spec = importlib.util.spec_from_file_location(\"muTel\", loc)\n",
    "foo = importlib.util.module_from_spec(spec)\n",
    "sys.modules[\"muTel\"] = foo\n",
    "spec.loader.exec_module(foo)"
   ]
  },
  {
   "cell_type": "code",
   "execution_count": 4,
   "metadata": {},
   "outputs": [],
   "source": [
    "from muTel.dqm.classes.MuData import MuData\n",
    "from muTel.utils.config import load_cfg\n",
    "from muTel.dqm.classes.Filters import Drop, DropTrigger, SLStudy, TimeFrame"
   ]
  },
  {
   "cell_type": "code",
   "execution_count": 5,
   "metadata": {},
   "outputs": [],
   "source": [
    "data = MuData(588)"
   ]
  },
  {
   "cell_type": "markdown",
   "metadata": {},
   "source": [
    "Al crear un objeto con la clase MuData, tendremos que indicar el número de la Run, así como la SL (en caso de que estén separadas) y el número de hits (en caso de que esté separado). Es decir, usa el mismo paradigma para leer los archivos que el que se usa para nombrarlos."
   ]
  },
  {
   "cell_type": "markdown",
   "metadata": {},
   "source": [
    "### Suma"
   ]
  },
  {
   "cell_type": "markdown",
   "metadata": {},
   "source": [
    "Los objetos MuData se pueden sumar, dando lugar a un nuevo conjunto de datos formados por los dos de la suma:\n",
    "\n",
    "[Esto es todavía bastante experimental]"
   ]
  },
  {
   "cell_type": "raw",
   "metadata": {},
   "source": [
    "muon_data_1 = MuData(588,sl=1,nhits=4)\n",
    "muon_data_1.df = muon_data_1.df.loc[:5]\n",
    "muon_data_2 = MuData(588,sl=2,nhits=4)\n",
    "muon_data_2.df = muon_data_2.df.loc[:5]"
   ]
  },
  {
   "cell_type": "raw",
   "metadata": {},
   "source": [
    "display(muon_data_1)\n",
    "display(muon_data_2)\n",
    "\n",
    "muon_data_12 = muon_data_1 + muon_data_2\n",
    "display(muon_data_12.df)"
   ]
  },
  {
   "cell_type": "markdown",
   "metadata": {},
   "source": [
    "(Para ejecutarla, hay que cambiar el tipo de celda a Python. Está en raw para que no se ejecute al ejecutar toda la libreta, ya que tarda un ratillo y no sirve para mucho en ese ejemplo.)"
   ]
  },
  {
   "cell_type": "markdown",
   "metadata": {},
   "source": [
    "### Métodos"
   ]
  },
  {
   "cell_type": "markdown",
   "metadata": {},
   "source": [
    "#### display_event\n",
    "\n",
    "\n",
    "He hecho una función que te permite pintar una tabla con un gráfico de barras para tener una mejor idea de la distribución de tiempos. El máximo y el mínimo están normalizados al filtro de tiempos (TimeFrame). Toma de valor del evento que se quiere representar:"
   ]
  },
  {
   "cell_type": "code",
   "execution_count": null,
   "metadata": {},
   "outputs": [],
   "source": [
    "data.display_event(51239)"
   ]
  },
  {
   "cell_type": "markdown",
   "metadata": {},
   "source": [
    "#### calculate_T0\n",
    "\n",
    "Permite calcular el valor de T0 para cada una de las SL con su incertidumbre y lo guarda en el objeto como self.T0:"
   ]
  },
  {
   "cell_type": "code",
   "execution_count": 13,
   "metadata": {},
   "outputs": [],
   "source": [
    "data_ex = data.copy()\n",
    "data_ex.add_filter(load_cfg(Drop))\n",
    "data_ex.add_filter(load_cfg(DropTrigger))\n",
    "data_ex.add_filter(load_cfg(TimeFrame))\n",
    "data_ex.add_filter(load_cfg(SLStudy,config_name='01_4hits_in'))\n"
   ]
  },
  {
   "cell_type": "code",
   "execution_count": 18,
   "metadata": {},
   "outputs": [
    {
     "data": {
      "text/html": [
       "<div>\n",
       "<style scoped>\n",
       "    .dataframe tbody tr th:only-of-type {\n",
       "        vertical-align: middle;\n",
       "    }\n",
       "\n",
       "    .dataframe tbody tr th {\n",
       "        vertical-align: top;\n",
       "    }\n",
       "\n",
       "    .dataframe thead th {\n",
       "        text-align: right;\n",
       "    }\n",
       "</style>\n",
       "<table border=\"1\" class=\"dataframe\">\n",
       "  <thead>\n",
       "    <tr style=\"text-align: right;\">\n",
       "      <th></th>\n",
       "      <th>T0</th>\n",
       "      <th>dT0</th>\n",
       "    </tr>\n",
       "    <tr>\n",
       "      <th>sl</th>\n",
       "      <th></th>\n",
       "      <th></th>\n",
       "    </tr>\n",
       "  </thead>\n",
       "  <tbody>\n",
       "    <tr>\n",
       "      <th>1</th>\n",
       "      <td>709.344070</td>\n",
       "      <td>5.496488</td>\n",
       "    </tr>\n",
       "    <tr>\n",
       "      <th>2</th>\n",
       "      <td>709.176662</td>\n",
       "      <td>5.614921</td>\n",
       "    </tr>\n",
       "    <tr>\n",
       "      <th>3</th>\n",
       "      <td>709.962084</td>\n",
       "      <td>3.136651</td>\n",
       "    </tr>\n",
       "    <tr>\n",
       "      <th>4</th>\n",
       "      <td>711.089938</td>\n",
       "      <td>2.728640</td>\n",
       "    </tr>\n",
       "  </tbody>\n",
       "</table>\n",
       "</div>"
      ],
      "text/plain": [
       "            T0       dT0\n",
       "sl                      \n",
       "1   709.344070  5.496488\n",
       "2   709.176662  5.614921\n",
       "3   709.962084  3.136651\n",
       "4   711.089938  2.728640"
      ]
     },
     "execution_count": 18,
     "metadata": {},
     "output_type": "execute_result"
    }
   ],
   "source": [
    "data_ex.calculate_T0()"
   ]
  },
  {
   "cell_type": "markdown",
   "metadata": {},
   "source": [
    "## Próximamente"
   ]
  },
  {
   "cell_type": "markdown",
   "metadata": {},
   "source": [
    "Mi idea es que estos objetos te permitan también calcular T0, los meantimers, y los distintos gráficos con métodos que tengan dentro, y así tener todo aglutinado en un mismo lugar."
   ]
  },
  {
   "cell_type": "markdown",
   "metadata": {},
   "source": [
    "## Filter"
   ]
  },
  {
   "cell_type": "markdown",
   "metadata": {},
   "source": [
    "Filter es la clase que engloba todos los filtros. Por sí misma, no hace nada, son sus distintos hijas las que tendrán distintas funciones.\n",
    "\n",
    "Los filtros tienen conjuntos de valores por defecto que se guardan en un archivo JSON para poder ser cargados con facilidad. Esto se hace mediante la función \"load_cfg\". Se le da como argumento el filtro y, de forma opcional, el nombre de la configuración (por defecto, el valor es \"default\").\n",
    "\n",
    "Este archivo JSON se puede encontrar en \"config/filters.json\" dentro del directorio del paquete."
   ]
  },
  {
   "cell_type": "markdown",
   "metadata": {},
   "source": [
    "### Drop\n",
    "\n",
    "Este filtro sirve para quitar columnas del conjunto de datos. En este caso, en vez de indicar las columnas que se van a despreciar, se indican las que se quieren mantener."
   ]
  },
  {
   "cell_type": "markdown",
   "metadata": {},
   "source": [
    "Estos son los datos sin filtrar las columnas:"
   ]
  },
  {
   "cell_type": "code",
   "execution_count": null,
   "metadata": {},
   "outputs": [],
   "source": [
    "display(data)"
   ]
  },
  {
   "cell_type": "markdown",
   "metadata": {},
   "source": [
    "Y estos son los datos después de aplicar el filtro:"
   ]
  },
  {
   "cell_type": "code",
   "execution_count": null,
   "metadata": {},
   "outputs": [],
   "source": [
    "data.add_filter(load_cfg(Drop))\n",
    "display(data)"
   ]
  },
  {
   "cell_type": "markdown",
   "metadata": {},
   "source": [
    "Con los valores por defecto de Drop se conservan las columnas:\n",
    "- EventNr\n",
    "- GEO\n",
    "- hit\n",
    "- channel\n",
    "- sl\n",
    "- layer\n",
    "- cell\n",
    "- DriftTime"
   ]
  },
  {
   "cell_type": "markdown",
   "metadata": {},
   "source": [
    "### DropTrigger\n",
    "\n",
    "Con la ayuda de este filtro, eliminamos las señales provenientes del canal del trigger:"
   ]
  },
  {
   "cell_type": "code",
   "execution_count": null,
   "metadata": {},
   "outputs": [],
   "source": [
    "data.add_filter(load_cfg(DropTrigger))\n",
    "display(data)"
   ]
  },
  {
   "cell_type": "markdown",
   "metadata": {},
   "source": [
    "### TimeFrame\n",
    "\n",
    "Con este filtro podemos seleccionar una ventana de tiempo en la que filtrar los datos. Los valores por defecto son tmin = 600 y tmax = 1200."
   ]
  },
  {
   "cell_type": "code",
   "execution_count": null,
   "metadata": {},
   "outputs": [],
   "source": [
    "data.add_filter(load_cfg(TimeFrame))\n",
    "display(data)"
   ]
  },
  {
   "cell_type": "markdown",
   "metadata": {},
   "source": [
    "### SLStudy\n",
    "\n",
    "Este filtro es el que se encargará de seleccionar los eventos que tengan al menos 4 hits en una de las SL. Hay dos modos de funcionamiento:\n",
    "- <u>Inclusivo</u>: 4 hits en **al menos 1** de las capas.\n",
    "- <u>Exclusivo</u>: 4 hits en **todas** las capas.\n",
    "\n",
    "Se le indica la SL que tiene que mirar y el modo de funcionamiento."
   ]
  },
  {
   "cell_type": "markdown",
   "metadata": {},
   "source": [
    "#### Inclusivo"
   ]
  },
  {
   "cell_type": "code",
   "execution_count": null,
   "metadata": {},
   "outputs": [],
   "source": [
    "muon_sl_1_in= data.copy()\n",
    "muon_sl_1_in.add_filter(load_cfg(SLStudy,config_name='01_4hits_in'))"
   ]
  },
  {
   "cell_type": "code",
   "execution_count": null,
   "metadata": {},
   "outputs": [],
   "source": [
    "print('Número de final de entradas:',len(muon_sl_1_in))\n",
    "display(muon_sl_1_in)"
   ]
  },
  {
   "cell_type": "markdown",
   "metadata": {},
   "source": [
    "#### Exclusivo:"
   ]
  },
  {
   "cell_type": "code",
   "execution_count": null,
   "metadata": {},
   "outputs": [],
   "source": [
    "muon_ex= data.copy()\n",
    "muon_ex.add_filter(load_cfg(SLStudy,config_name='4hits_ex'))"
   ]
  },
  {
   "cell_type": "code",
   "execution_count": null,
   "metadata": {},
   "outputs": [],
   "source": [
    "print('Número de final de entradas:',len(muon_ex))\n",
    "display(muon_ex)"
   ]
  },
  {
   "cell_type": "markdown",
   "metadata": {},
   "source": [
    "Comparando los resultados antes y después de ejecutar el filtro de 4hits:"
   ]
  },
  {
   "cell_type": "code",
   "execution_count": null,
   "metadata": {},
   "outputs": [],
   "source": [
    "test_cfg  =['01_4hits_in','02_4hits_in','03_4hits_in','04_4hits_in','4hits_ex']\n",
    "\n",
    "for i, cfg in enumerate(test_cfg):\n",
    "    # print(f'cfg: {cfg}')\n",
    "    data_test = data.copy()\n",
    "    data_test.add_filter(load_cfg(SLStudy,config_name=cfg))\n",
    "    print(f'Eficiencia a 4 hits de {f\"SL {i+1}\" if i < 4 else \"todas\"}: {data_test.NEvents()/data.NEvents()*100:.1f} %')"
   ]
  }
 ],
 "metadata": {
  "kernelspec": {
   "display_name": "Python 3",
   "language": "python",
   "name": "python3"
  },
  "language_info": {
   "codemirror_mode": {
    "name": "ipython",
    "version": 3
   },
   "file_extension": ".py",
   "mimetype": "text/x-python",
   "name": "python",
   "nbconvert_exporter": "python",
   "pygments_lexer": "ipython3",
   "version": "3.11.2"
  },
  "vscode": {
   "interpreter": {
    "hash": "31f2aee4e71d21fbe5cf8b01ff0e069b9275f58929596ceb00d14d90e3e16cd6"
   }
  }
 },
 "nbformat": 4,
 "nbformat_minor": 4
}
