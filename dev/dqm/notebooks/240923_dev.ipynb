{
 "cells": [
  {
   "cell_type": "code",
   "execution_count": 1,
   "metadata": {},
   "outputs": [],
   "source": [
    "import sys, os\n",
    "sys.path.insert(1, '/nfs/cms/martialc/DTUpgrade/src')\n",
    "\n",
    "%load_ext autoreload\n",
    "%autoreload 2"
   ]
  },
  {
   "cell_type": "code",
   "execution_count": 2,
   "metadata": {},
   "outputs": [],
   "source": [
    "import dtupy_analysis\n",
    "import pandas as pd\n",
    "import dask.dataframe as dd\n",
    "import dask.array as da\n",
    "import numpy as np\n",
    "import matplotlib.pyplot as plt\n",
    "import matplotlib as mpl\n",
    "import pyarrow as pa\n",
    "import pyarrow.parquet as pq\n",
    "import dask\n",
    "\n",
    "import dtupy_analysis.dqm as dqm\n",
    "from dtupy_analysis.dqm.pairing import matrix_diff, distance_matrix, pair_hits"
   ]
  },
  {
   "cell_type": "code",
   "execution_count": 28,
   "metadata": {},
   "outputs": [
    {
     "ename": "AttributeError",
     "evalue": "'super' object has no attribute '__getitem__'",
     "output_type": "error",
     "traceback": [
      "\u001b[0;31m---------------------------------------------------------------------------\u001b[0m",
      "\u001b[0;31mAttributeError\u001b[0m                            Traceback (most recent call last)",
      "Cell \u001b[0;32mIn[28], line 3\u001b[0m\n\u001b[1;32m      1\u001b[0m file \u001b[38;5;241m=\u001b[39m \u001b[38;5;124m'\u001b[39m\u001b[38;5;124m/nfs/cms/martialc/DTUpgrade/data/sxa5_240802_full.parquet\u001b[39m\u001b[38;5;124m'\u001b[39m\n\u001b[1;32m      2\u001b[0m mudata\u001b[38;5;241m=\u001b[39m dqm\u001b[38;5;241m.\u001b[39mMuFile\u001b[38;5;241m.\u001b[39mto_batches(file)\n\u001b[0;32m----> 3\u001b[0m \u001b[43mmudata\u001b[49m\u001b[38;5;241;43m.\u001b[39;49m\u001b[43mdata\u001b[49m\n",
      "File \u001b[0;32m/nfs/cms/martialc/DTUpgrade/src/dtupy_analysis/dqm/classes/MuFile.py:104\u001b[0m, in \u001b[0;36mMuFileBatches.__getattr__\u001b[0;34m(self, attr)\u001b[0m\n\u001b[1;32m    102\u001b[0m     \u001b[38;5;28;01mreturn\u001b[39;00m \u001b[38;5;28mself\u001b[39m[attr]\n\u001b[1;32m    103\u001b[0m \u001b[38;5;28;01melse\u001b[39;00m:\n\u001b[0;32m--> 104\u001b[0m     \u001b[38;5;28;43msuper\u001b[39;49m\u001b[43m(\u001b[49m\u001b[43m)\u001b[49m\u001b[38;5;241;43m.\u001b[39;49m\u001b[38;5;21;43m__getitem__\u001b[39;49m(attr)\n",
      "\u001b[0;31mAttributeError\u001b[0m: 'super' object has no attribute '__getitem__'"
     ]
    }
   ],
   "source": [
    "file = '/nfs/cms/martialc/DTUpgrade/data/sxa5_240802_full.parquet'\n",
    "mudata= dqm.MuFile.to_batches(file)\n",
    "mudata.data"
   ]
  },
  {
   "cell_type": "code",
   "execution_count": 4,
   "metadata": {},
   "outputs": [],
   "source": [
    "musl = mudata.get_ssl(1,1)\n"
   ]
  },
  {
   "cell_type": "code",
   "execution_count": 26,
   "metadata": {},
   "outputs": [
    {
     "data": {
      "text/plain": [
       "([(0, 100), (20, 120)], 3319285)"
      ]
     },
     "execution_count": 26,
     "metadata": {},
     "output_type": "execute_result"
    }
   ],
   "source": [
    "batch_size = 100\n",
    "f_overlap = 0.5\n",
    "end = musl.data.shape[0].compute()\n",
    "def slice_generator(end, batch_size, f_overlap = 0):\n",
    "    overlap = int(f_overlap*batch_size)\n",
    "    delta = batch_size - overlap\n",
    "    \n",
    "    i = 0\n",
    "    f = batch_size\n",
    "    while i < end:\n",
    "        if f > end: f = -1\n",
    "        yield (i, f)\n",
    "        \n",
    "        if f == -1: break\n",
    "        \n",
    "        # Update\n",
    "        i += delta\n",
    "        f += delta\n",
    "\n",
    "list(slice_generator(end, batch_size, f_overlap=.8))[:2], end"
   ]
  }
 ],
 "metadata": {
  "kernelspec": {
   "display_name": "dtupy-analysis",
   "language": "python",
   "name": "python3"
  },
  "language_info": {
   "codemirror_mode": {
    "name": "ipython",
    "version": 3
   },
   "file_extension": ".py",
   "mimetype": "text/x-python",
   "name": "python",
   "nbconvert_exporter": "python",
   "pygments_lexer": "ipython3",
   "version": "3.11.9"
  }
 },
 "nbformat": 4,
 "nbformat_minor": 2
}
